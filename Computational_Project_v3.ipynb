{
 "cells": [
  {
   "cell_type": "code",
   "execution_count": 51,
   "id": "ffbcaee1",
   "metadata": {},
   "outputs": [],
   "source": [
    "from urllib.request import urlretrieve\n",
    "from pyopenms import *\n",
    "import pandas as pd\n",
    "from matplotlib import pyplot as plt\n",
    "searchfile = \"BSA1.mzML\"\n",
    "searchdb = \"bsa.fasta\"\n"
   ]
  },
  {
   "cell_type": "markdown",
   "id": "c91ef078",
   "metadata": {},
   "source": [
    "# Generate Target and Decoy "
   ]
  },
  {
   "cell_type": "code",
   "execution_count": 52,
   "id": "1e83cdfc",
   "metadata": {},
   "outputs": [],
   "source": [
    "# generate a protein database with additional decoy sequenes\n",
    "targets = list()\n",
    "decoys = list()\n",
    "FASTAFile().load(searchdb, targets) # read FASTA file into a list of FASTAEntrys\n",
    "decoy_generator = DecoyGenerator()\n",
    "for entry in targets:\n",
    "    rev_entry = FASTAEntry(entry) # copy entry\n",
    "    rev_entry.identifier = \"DECOY_\" + rev_entry.identifier # mark as decoy\n",
    "    aas = AASequence().fromString(rev_entry.sequence) # convert string into amino acid sequence\n",
    "    rev_entry.sequence = decoy_generator.reverseProtein(aas).toString() # reverse\n",
    "    decoys.append(rev_entry)\n",
    "\n",
    "target_decoy_database = \"search_td.fasta\"\n",
    "FASTAFile().store(target_decoy_database, targets + decoys) # store the database with appended decoy sequences\n"
   ]
  },
  {
   "cell_type": "markdown",
   "id": "ffc9f9bc",
   "metadata": {},
   "source": [
    "# Search mzMl vs Target and Decoy"
   ]
  },
  {
   "cell_type": "code",
   "execution_count": 53,
   "id": "ecbd148d",
   "metadata": {},
   "outputs": [],
   "source": [
    "# Run SimpleSearchAlgorithm, store protein and peptide ids\n",
    "protein_ids = []\n",
    "peptide_ids = []\n",
    "\n",
    "# set some custom search parameters\n",
    "simplesearch = SimpleSearchEngineAlgorithm()\n",
    "params = simplesearch.getDefaults()\n",
    "score_annot = [b'fragment_mz_error_median_ppm', b'precursor_mz_error_ppm']\n",
    "params.setValue(b'annotate:PSM', score_annot)\n",
    "params.setValue(b'peptide:max_size', 30)\n",
    "simplesearch.setParameters(params)\n",
    "\n",
    "simplesearch.search(searchfile, target_decoy_database, protein_ids, peptide_ids)"
   ]
  },
  {
   "cell_type": "code",
   "execution_count": 54,
   "id": "0ae39343",
   "metadata": {},
   "outputs": [
    {
     "name": "stdout",
     "output_type": "stream",
     "text": [
      "===================================\n",
      "Peptide ID m/z: 443.711242675781\n",
      "Peptide ID rt: 1738.03344726562\n",
      "Peptide ID score type: hyperscore\n",
      " - Peptide hit rank: 1\n",
      " - Peptide hit sequence: DDSPDLPK\n",
      " - Peptide hit score: 0.025952965021133423\n",
      "Peptide hit target/decoy: target\n",
      " - Mapping to proteins: ['sp|P02769|ALBU_BOVIN']\n",
      "===================================\n",
      "Peptide ID m/z: 722.32421875\n",
      "Peptide ID rt: 1777.67211914062\n",
      "Peptide ID score type: hyperscore\n",
      " - Peptide hit rank: 1\n",
      " - Peptide hit sequence: YIC(Carbamidomethyl)DNQDTISSK\n",
      " - Peptide hit score: 0.23118865489959717\n",
      "Peptide hit target/decoy: target\n",
      " - Mapping to proteins: ['sp|P02769|ALBU_BOVIN']\n",
      "===================================\n",
      "Peptide ID m/z: 569.752258300781\n",
      "Peptide ID rt: 1793.82604980469\n",
      "Peptide ID score type: hyperscore\n",
      " - Peptide hit rank: 1\n",
      " - Peptide hit sequence: C(Carbamidomethyl)C(Carbamidomethyl)TESLVNR\n",
      " - Peptide hit score: 0.43482378125190735\n",
      "Peptide hit target/decoy: target\n",
      " - Mapping to proteins: ['sp|P02769|ALBU_BOVIN']\n",
      "===================================\n",
      "Peptide ID m/z: 300.165954589844\n",
      "Peptide ID rt: 1800.23291015625\n",
      "Peptide ID score type: hyperscore\n",
      " - Peptide hit rank: 1\n",
      " - Peptide hit sequence: LC(Carbamidomethyl)VLHEK\n",
      " - Peptide hit score: 0.1441444307565689\n",
      "Peptide hit target/decoy: target\n",
      " - Mapping to proteins: ['sp|P02769|ALBU_BOVIN']\n",
      "===================================\n",
      "Peptide ID m/z: 487.732330322266\n",
      "Peptide ID rt: 1838.44543457031\n",
      "Peptide ID score type: hyperscore\n",
      " - Peptide hit rank: 1\n",
      " - Peptide hit sequence: FHEEGLDK\n",
      " - Peptide hit score: 0.013782881200313568\n",
      "Peptide hit target/decoy: decoy\n",
      " - Mapping to proteins: ['DECOY_sp|P02769|ALBU_BOVIN']\n",
      "===================================\n",
      "Peptide ID m/z: 325.491180419922\n",
      "Peptide ID rt: 1840.79333496094\n",
      "Peptide ID score type: hyperscore\n",
      " - Peptide hit rank: 1\n",
      " - Peptide hit sequence: DLGEEHFK\n",
      " - Peptide hit score: 0.02062571980059147\n",
      "Peptide hit target/decoy: target\n",
      " - Mapping to proteins: ['sp|P02769|ALBU_BOVIN']\n",
      "===================================\n",
      "Peptide ID m/z: 300.165924072266\n",
      "Peptide ID rt: 1903.76831054688\n",
      "Peptide ID score type: hyperscore\n",
      " - Peptide hit rank: 1\n",
      " - Peptide hit sequence: LC(Carbamidomethyl)VLHEK\n",
      " - Peptide hit score: 0.12297835201025009\n",
      "Peptide hit target/decoy: target\n",
      " - Mapping to proteins: ['sp|P02769|ALBU_BOVIN']\n",
      "===================================\n",
      "Peptide ID m/z: 395.239349365234\n",
      "Peptide ID rt: 1933.40515136719\n",
      "Peptide ID score type: hyperscore\n",
      " - Peptide hit rank: 1\n",
      " - Peptide hit sequence: LVTDLTK\n",
      " - Peptide hit score: 0.016287658363580704\n",
      "Peptide hit target/decoy: target\n",
      " - Mapping to proteins: ['sp|P02769|ALBU_BOVIN']\n",
      "===================================\n",
      "Peptide ID m/z: 487.732238769531\n",
      "Peptide ID rt: 1984.97546386719\n",
      "Peptide ID score type: hyperscore\n",
      " - Peptide hit rank: 1\n",
      " - Peptide hit sequence: DLGEEHFK\n",
      " - Peptide hit score: 1.4324767589569092\n",
      "Peptide hit target/decoy: target\n",
      " - Mapping to proteins: ['sp|P02769|ALBU_BOVIN']\n",
      "===================================\n",
      "Peptide ID m/z: 325.491241455078\n",
      "Peptide ID rt: 1987.85107421875\n",
      "Peptide ID score type: hyperscore\n",
      " - Peptide hit rank: 1\n",
      " - Peptide hit sequence: FHEEGLDK\n",
      " - Peptide hit score: 0.008385772816836834\n",
      "Peptide hit target/decoy: decoy\n",
      " - Mapping to proteins: ['DECOY_sp|P02769|ALBU_BOVIN']\n",
      "===================================\n",
      "Peptide ID m/z: 461.74755859375\n",
      "Peptide ID rt: 2038.95886230469\n",
      "Peptide ID score type: hyperscore\n",
      " - Peptide hit rank: 1\n",
      " - Peptide hit sequence: AEFVEVTK\n",
      " - Peptide hit score: 0.01876036264002323\n",
      "Peptide hit target/decoy: target\n",
      " - Mapping to proteins: ['sp|P02769|ALBU_BOVIN']\n",
      "===================================\n",
      "Peptide ID m/z: 554.260375976562\n",
      "Peptide ID rt: 2058.83471679688\n",
      "Peptide ID score type: hyperscore\n",
      " - Peptide hit rank: 1\n",
      " - Peptide hit sequence: EAC(Carbamidomethyl)FAVEGPK\n",
      " - Peptide hit score: 0.4405835270881653\n",
      "Peptide hit target/decoy: target\n",
      " - Mapping to proteins: ['sp|P02769|ALBU_BOVIN']\n",
      "===================================\n",
      "Peptide ID m/z: 554.260559082031\n",
      "Peptide ID rt: 2098.17504882812\n",
      "Peptide ID score type: hyperscore\n",
      " - Peptide hit rank: 1\n",
      " - Peptide hit sequence: EAC(Carbamidomethyl)FAVEGPK\n",
      " - Peptide hit score: 0.02166515588760376\n",
      "Peptide hit target/decoy: target\n",
      " - Mapping to proteins: ['sp|P02769|ALBU_BOVIN']\n",
      "===================================\n",
      "Peptide ID m/z: 379.715576171875\n",
      "Peptide ID rt: 2100.20629882812\n",
      "Peptide ID score type: hyperscore\n",
      " - Peptide hit rank: 1\n",
      " - Peptide hit sequence: GAC(Carbamidomethyl)LLPK\n",
      " - Peptide hit score: 0.08393573015928268\n",
      "Peptide hit target/decoy: target\n",
      " - Mapping to proteins: ['sp|P02769|ALBU_BOVIN']\n",
      "===================================\n",
      "Peptide ID m/z: 464.250030517578\n",
      "Peptide ID rt: 2357.07421875\n",
      "Peptide ID score type: hyperscore\n",
      " - Peptide hit rank: 1\n",
      " - Peptide hit sequence: YLYEIAR\n",
      " - Peptide hit score: 0.12348885089159012\n",
      "Peptide hit target/decoy: target\n",
      " - Mapping to proteins: ['sp|P02769|ALBU_BOVIN']\n",
      "===================================\n",
      "Peptide ID m/z: 501.795013427734\n",
      "Peptide ID rt: 2380.93310546875\n",
      "Peptide ID score type: hyperscore\n",
      " - Peptide hit rank: 1\n",
      " - Peptide hit sequence: LVVSTQTALA\n",
      " - Peptide hit score: 0.02791677415370941\n",
      "Peptide hit target/decoy: target\n",
      " - Mapping to proteins: ['sp|P02769|ALBU_BOVIN']\n",
      "===================================\n",
      "Peptide ID m/z: 464.250335693359\n",
      "Peptide ID rt: 2398.77709960938\n",
      "Peptide ID score type: hyperscore\n",
      " - Peptide hit rank: 1\n",
      " - Peptide hit sequence: YLYEIAR\n",
      " - Peptide hit score: 2.523130178451538\n",
      "Peptide hit target/decoy: target\n",
      " - Mapping to proteins: ['sp|P02769|ALBU_BOVIN']\n"
     ]
    }
   ],
   "source": [
    "Peptide_Identification=[]\n",
    "score=[]\n",
    "Target_Decoy=[]\n",
    "\n",
    "# Iterate over PeptideIdentification\n",
    "for peptide_id in peptide_ids:\n",
    "  # Peptide identification values\n",
    "  print(35*'=')  \n",
    "  print (\"Peptide ID m/z:\", peptide_id.getMZ())\n",
    "  print (\"Peptide ID rt:\", peptide_id.getRT())\n",
    "  print (\"Peptide ID score type:\", peptide_id.getScoreType())\n",
    "  # PeptideHits\n",
    "  for hit in peptide_id.getHits():\n",
    "    Peptide_Identification.append(hit.getSequence())\n",
    "    score.append(hit.getScore())\n",
    "    Target_Decoy.append(hit.getMetaValue(\"target_decoy\"))\n",
    "\n",
    "    print(\" - Peptide hit rank:\", hit.getRank())\n",
    "    print(\" - Peptide hit sequence:\", hit.getSequence())\n",
    "    print(\" - Peptide hit score:\", hit.getScore())\n",
    "    print(\"Peptide hit target/decoy:\", hit.getMetaValue(\"target_decoy\"))\n",
    "    print(\" - Mapping to proteins:\", [ev.getProteinAccession() for ev in hit.getPeptideEvidences() ] )"
   ]
  },
  {
   "cell_type": "code",
   "execution_count": 55,
   "id": "51037fa7",
   "metadata": {},
   "outputs": [
    {
     "data": {
      "text/html": [
       "<div>\n",
       "<style scoped>\n",
       "    .dataframe tbody tr th:only-of-type {\n",
       "        vertical-align: middle;\n",
       "    }\n",
       "\n",
       "    .dataframe tbody tr th {\n",
       "        vertical-align: top;\n",
       "    }\n",
       "\n",
       "    .dataframe thead th {\n",
       "        text-align: right;\n",
       "    }\n",
       "</style>\n",
       "<table border=\"1\" class=\"dataframe\">\n",
       "  <thead>\n",
       "    <tr style=\"text-align: right;\">\n",
       "      <th></th>\n",
       "      <th>Peptide Identification</th>\n",
       "      <th>Search engine score</th>\n",
       "      <th>Target/Decoy</th>\n",
       "    </tr>\n",
       "  </thead>\n",
       "  <tbody>\n",
       "    <tr>\n",
       "      <th>9</th>\n",
       "      <td>FHEEGLDK</td>\n",
       "      <td>0.008386</td>\n",
       "      <td>decoy</td>\n",
       "    </tr>\n",
       "    <tr>\n",
       "      <th>4</th>\n",
       "      <td>FHEEGLDK</td>\n",
       "      <td>0.013783</td>\n",
       "      <td>decoy</td>\n",
       "    </tr>\n",
       "    <tr>\n",
       "      <th>7</th>\n",
       "      <td>LVTDLTK</td>\n",
       "      <td>0.016288</td>\n",
       "      <td>target</td>\n",
       "    </tr>\n",
       "    <tr>\n",
       "      <th>10</th>\n",
       "      <td>AEFVEVTK</td>\n",
       "      <td>0.018760</td>\n",
       "      <td>target</td>\n",
       "    </tr>\n",
       "    <tr>\n",
       "      <th>5</th>\n",
       "      <td>DLGEEHFK</td>\n",
       "      <td>0.020626</td>\n",
       "      <td>target</td>\n",
       "    </tr>\n",
       "    <tr>\n",
       "      <th>12</th>\n",
       "      <td>EAC(Carbamidomethyl)FAVEGPK</td>\n",
       "      <td>0.021665</td>\n",
       "      <td>target</td>\n",
       "    </tr>\n",
       "    <tr>\n",
       "      <th>0</th>\n",
       "      <td>DDSPDLPK</td>\n",
       "      <td>0.025953</td>\n",
       "      <td>target</td>\n",
       "    </tr>\n",
       "    <tr>\n",
       "      <th>15</th>\n",
       "      <td>LVVSTQTALA</td>\n",
       "      <td>0.027917</td>\n",
       "      <td>target</td>\n",
       "    </tr>\n",
       "    <tr>\n",
       "      <th>13</th>\n",
       "      <td>GAC(Carbamidomethyl)LLPK</td>\n",
       "      <td>0.083936</td>\n",
       "      <td>target</td>\n",
       "    </tr>\n",
       "    <tr>\n",
       "      <th>6</th>\n",
       "      <td>LC(Carbamidomethyl)VLHEK</td>\n",
       "      <td>0.122978</td>\n",
       "      <td>target</td>\n",
       "    </tr>\n",
       "    <tr>\n",
       "      <th>14</th>\n",
       "      <td>YLYEIAR</td>\n",
       "      <td>0.123489</td>\n",
       "      <td>target</td>\n",
       "    </tr>\n",
       "    <tr>\n",
       "      <th>3</th>\n",
       "      <td>LC(Carbamidomethyl)VLHEK</td>\n",
       "      <td>0.144144</td>\n",
       "      <td>target</td>\n",
       "    </tr>\n",
       "    <tr>\n",
       "      <th>1</th>\n",
       "      <td>YIC(Carbamidomethyl)DNQDTISSK</td>\n",
       "      <td>0.231189</td>\n",
       "      <td>target</td>\n",
       "    </tr>\n",
       "    <tr>\n",
       "      <th>2</th>\n",
       "      <td>C(Carbamidomethyl)C(Carbamidomethyl)TESLVNR</td>\n",
       "      <td>0.434824</td>\n",
       "      <td>target</td>\n",
       "    </tr>\n",
       "    <tr>\n",
       "      <th>11</th>\n",
       "      <td>EAC(Carbamidomethyl)FAVEGPK</td>\n",
       "      <td>0.440584</td>\n",
       "      <td>target</td>\n",
       "    </tr>\n",
       "    <tr>\n",
       "      <th>8</th>\n",
       "      <td>DLGEEHFK</td>\n",
       "      <td>1.432477</td>\n",
       "      <td>target</td>\n",
       "    </tr>\n",
       "    <tr>\n",
       "      <th>16</th>\n",
       "      <td>YLYEIAR</td>\n",
       "      <td>2.523130</td>\n",
       "      <td>target</td>\n",
       "    </tr>\n",
       "  </tbody>\n",
       "</table>\n",
       "</div>"
      ],
      "text/plain": [
       "                         Peptide Identification  Search engine score  \\\n",
       "9                                      FHEEGLDK             0.008386   \n",
       "4                                      FHEEGLDK             0.013783   \n",
       "7                                       LVTDLTK             0.016288   \n",
       "10                                     AEFVEVTK             0.018760   \n",
       "5                                      DLGEEHFK             0.020626   \n",
       "12                  EAC(Carbamidomethyl)FAVEGPK             0.021665   \n",
       "0                                      DDSPDLPK             0.025953   \n",
       "15                                   LVVSTQTALA             0.027917   \n",
       "13                     GAC(Carbamidomethyl)LLPK             0.083936   \n",
       "6                      LC(Carbamidomethyl)VLHEK             0.122978   \n",
       "14                                      YLYEIAR             0.123489   \n",
       "3                      LC(Carbamidomethyl)VLHEK             0.144144   \n",
       "1                 YIC(Carbamidomethyl)DNQDTISSK             0.231189   \n",
       "2   C(Carbamidomethyl)C(Carbamidomethyl)TESLVNR             0.434824   \n",
       "11                  EAC(Carbamidomethyl)FAVEGPK             0.440584   \n",
       "8                                      DLGEEHFK             1.432477   \n",
       "16                                      YLYEIAR             2.523130   \n",
       "\n",
       "   Target/Decoy  \n",
       "9         decoy  \n",
       "4         decoy  \n",
       "7        target  \n",
       "10       target  \n",
       "5        target  \n",
       "12       target  \n",
       "0        target  \n",
       "15       target  \n",
       "13       target  \n",
       "6        target  \n",
       "14       target  \n",
       "3        target  \n",
       "1        target  \n",
       "2        target  \n",
       "11       target  \n",
       "8        target  \n",
       "16       target  "
      ]
     },
     "execution_count": 55,
     "metadata": {},
     "output_type": "execute_result"
    }
   ],
   "source": [
    "data = {\n",
    "  \"Peptide Identification\": Peptide_Identification,\n",
    "  \"Search engine score\": score,\n",
    "  \"Target/Decoy\": Target_Decoy\n",
    "}\n",
    "df = pd.DataFrame(data)\n",
    "df=df.sort_values(by=['Search engine score'])\n",
    "df\n"
   ]
  },
  {
   "cell_type": "markdown",
   "id": "491c32da",
   "metadata": {},
   "source": [
    "### Filter only Targets"
   ]
  },
  {
   "cell_type": "code",
   "execution_count": 56,
   "id": "556f72f1",
   "metadata": {},
   "outputs": [],
   "source": [
    "#Filter by 1% PSM FDR (q-value < 0.01)\n",
    "Filtered=peptide_ids\n",
    "\n",
    "idfilter = IDFilter()\n",
    "idfilter.filterHitsByScore(Filtered, 0.01)\n",
    "idfilter.removeDecoyHits(Filtered) \n",
    "\n",
    "# store PSM-FDR filtered\n",
    "IdXMLFile().store(\"searchfile_results_1perc_FDR.idXML\", protein_ids, Filtered)"
   ]
  },
  {
   "cell_type": "code",
   "execution_count": 57,
   "id": "63b0b627",
   "metadata": {},
   "outputs": [],
   "source": [
    "prot_ids = []; pep_ids = []\n",
    "IdXMLFile().load(\"searchfile_results_1perc_FDR.idXML\", prot_ids, pep_ids)\n",
    "\n",
    "Peptide_Identification=[]\n",
    "score=[]\n",
    "Target_Decoy=[]\n",
    "\n",
    "# Iterate over PeptideIdentification\n",
    "for peptide_id in peptide_ids:\n",
    "    for hit in peptide_id.getHits():\n",
    "        Peptide_Identification.append(hit.getSequence())\n",
    "        score.append(hit.getScore())\n",
    "        Target_Decoy.append(hit.getMetaValue(\"target_decoy\"))\n"
   ]
  },
  {
   "cell_type": "code",
   "execution_count": 58,
   "id": "b547752c",
   "metadata": {},
   "outputs": [
    {
     "data": {
      "text/html": [
       "<div>\n",
       "<style scoped>\n",
       "    .dataframe tbody tr th:only-of-type {\n",
       "        vertical-align: middle;\n",
       "    }\n",
       "\n",
       "    .dataframe tbody tr th {\n",
       "        vertical-align: top;\n",
       "    }\n",
       "\n",
       "    .dataframe thead th {\n",
       "        text-align: right;\n",
       "    }\n",
       "</style>\n",
       "<table border=\"1\" class=\"dataframe\">\n",
       "  <thead>\n",
       "    <tr style=\"text-align: right;\">\n",
       "      <th></th>\n",
       "      <th>Peptide Identification</th>\n",
       "      <th>Search engine score</th>\n",
       "      <th>Target/Decoy</th>\n",
       "    </tr>\n",
       "  </thead>\n",
       "  <tbody>\n",
       "    <tr>\n",
       "      <th>6</th>\n",
       "      <td>LVTDLTK</td>\n",
       "      <td>0.016288</td>\n",
       "      <td>target</td>\n",
       "    </tr>\n",
       "    <tr>\n",
       "      <th>8</th>\n",
       "      <td>AEFVEVTK</td>\n",
       "      <td>0.018760</td>\n",
       "      <td>target</td>\n",
       "    </tr>\n",
       "    <tr>\n",
       "      <th>4</th>\n",
       "      <td>DLGEEHFK</td>\n",
       "      <td>0.020626</td>\n",
       "      <td>target</td>\n",
       "    </tr>\n",
       "    <tr>\n",
       "      <th>10</th>\n",
       "      <td>EAC(Carbamidomethyl)FAVEGPK</td>\n",
       "      <td>0.021665</td>\n",
       "      <td>target</td>\n",
       "    </tr>\n",
       "    <tr>\n",
       "      <th>0</th>\n",
       "      <td>DDSPDLPK</td>\n",
       "      <td>0.025953</td>\n",
       "      <td>target</td>\n",
       "    </tr>\n",
       "    <tr>\n",
       "      <th>13</th>\n",
       "      <td>LVVSTQTALA</td>\n",
       "      <td>0.027917</td>\n",
       "      <td>target</td>\n",
       "    </tr>\n",
       "    <tr>\n",
       "      <th>11</th>\n",
       "      <td>GAC(Carbamidomethyl)LLPK</td>\n",
       "      <td>0.083936</td>\n",
       "      <td>target</td>\n",
       "    </tr>\n",
       "    <tr>\n",
       "      <th>5</th>\n",
       "      <td>LC(Carbamidomethyl)VLHEK</td>\n",
       "      <td>0.122978</td>\n",
       "      <td>target</td>\n",
       "    </tr>\n",
       "    <tr>\n",
       "      <th>12</th>\n",
       "      <td>YLYEIAR</td>\n",
       "      <td>0.123489</td>\n",
       "      <td>target</td>\n",
       "    </tr>\n",
       "    <tr>\n",
       "      <th>3</th>\n",
       "      <td>LC(Carbamidomethyl)VLHEK</td>\n",
       "      <td>0.144144</td>\n",
       "      <td>target</td>\n",
       "    </tr>\n",
       "    <tr>\n",
       "      <th>1</th>\n",
       "      <td>YIC(Carbamidomethyl)DNQDTISSK</td>\n",
       "      <td>0.231189</td>\n",
       "      <td>target</td>\n",
       "    </tr>\n",
       "    <tr>\n",
       "      <th>2</th>\n",
       "      <td>C(Carbamidomethyl)C(Carbamidomethyl)TESLVNR</td>\n",
       "      <td>0.434824</td>\n",
       "      <td>target</td>\n",
       "    </tr>\n",
       "    <tr>\n",
       "      <th>9</th>\n",
       "      <td>EAC(Carbamidomethyl)FAVEGPK</td>\n",
       "      <td>0.440584</td>\n",
       "      <td>target</td>\n",
       "    </tr>\n",
       "    <tr>\n",
       "      <th>7</th>\n",
       "      <td>DLGEEHFK</td>\n",
       "      <td>1.432477</td>\n",
       "      <td>target</td>\n",
       "    </tr>\n",
       "    <tr>\n",
       "      <th>14</th>\n",
       "      <td>YLYEIAR</td>\n",
       "      <td>2.523130</td>\n",
       "      <td>target</td>\n",
       "    </tr>\n",
       "  </tbody>\n",
       "</table>\n",
       "</div>"
      ],
      "text/plain": [
       "                         Peptide Identification  Search engine score  \\\n",
       "6                                       LVTDLTK             0.016288   \n",
       "8                                      AEFVEVTK             0.018760   \n",
       "4                                      DLGEEHFK             0.020626   \n",
       "10                  EAC(Carbamidomethyl)FAVEGPK             0.021665   \n",
       "0                                      DDSPDLPK             0.025953   \n",
       "13                                   LVVSTQTALA             0.027917   \n",
       "11                     GAC(Carbamidomethyl)LLPK             0.083936   \n",
       "5                      LC(Carbamidomethyl)VLHEK             0.122978   \n",
       "12                                      YLYEIAR             0.123489   \n",
       "3                      LC(Carbamidomethyl)VLHEK             0.144144   \n",
       "1                 YIC(Carbamidomethyl)DNQDTISSK             0.231189   \n",
       "2   C(Carbamidomethyl)C(Carbamidomethyl)TESLVNR             0.434824   \n",
       "9                   EAC(Carbamidomethyl)FAVEGPK             0.440584   \n",
       "7                                      DLGEEHFK             1.432477   \n",
       "14                                      YLYEIAR             2.523130   \n",
       "\n",
       "   Target/Decoy  \n",
       "6        target  \n",
       "8        target  \n",
       "4        target  \n",
       "10       target  \n",
       "0        target  \n",
       "13       target  \n",
       "11       target  \n",
       "5        target  \n",
       "12       target  \n",
       "3        target  \n",
       "1        target  \n",
       "2        target  \n",
       "9        target  \n",
       "7        target  \n",
       "14       target  "
      ]
     },
     "execution_count": 58,
     "metadata": {},
     "output_type": "execute_result"
    }
   ],
   "source": [
    "data = {\n",
    "  \"Peptide Identification\": Peptide_Identification,\n",
    "  \"Search engine score\": score,\n",
    "  \"Target/Decoy\": Target_Decoy\n",
    "}\n",
    "df = pd.DataFrame(data)\n",
    "df=df.sort_values(by=['Search engine score'])\n",
    "df\n"
   ]
  },
  {
   "cell_type": "markdown",
   "id": "e9ebd42c",
   "metadata": {},
   "source": [
    "# Alignment"
   ]
  },
  {
   "cell_type": "code",
   "execution_count": 76,
   "id": "a0d26426",
   "metadata": {},
   "outputs": [
    {
     "name": "stdout",
     "output_type": "stream",
     "text": [
      "MKWVTFISLLLLFSSAYSRGVFRRDTHKSEIAHRFKDLGEEHFKGLVLIAFSQYLQQCPFDEHVKLVNELTEFAKTCVADESHAGCEKSLHTLFGDELCKVASLRETYGDMADCCEKQEPERNECFLSHKDDSPDLPKLKPDPNTLCDEFKADEKKFWGKYLYEIARRHPYFYAPELLYYANKYNGVFQECCQAEDKGACLLPKIETMREKVLASSARQRLRCASIQKFGERALKAWSVARLSQKFPKAEFVEVTKLVTDLTKVHKECCHGDLLECADDRADLAKYICDNQDTISSKLKECCDKPLLEKSHCIAEVEKDAIPENLPPLTADFAEDKDVCKNYQEAKDAFLGSFLYEYSRRHPEYAVSVLLRLAKEYEATLEECCAKDDPHACYSTVFDKLKHLVDEPQNLIKQNCDQFEKLGEYGFQNALIVRYTRKVPQVSTPTLVEVSRSLGKVGTRCCTKPESERMPCTEDYLSLILNRLCVLHEKTPVSEKVTKCCTESLVNRRPCFSALTPDETYVPKAFDEKLFTFHADICTLPDTEKQIKKQTALVELLKHKPKATEEQLKTVMENFVAFVDKCCAADDKEACFAVEGPKLVVSTQTALAALATQTSVVLKPGEVAFCAEKDDAACCKDVFAVFNEMVTKLQEETAKPKHKLLEVLATQKKIQKETDPLTCIDAHFTFLKEDFAKPVYTEDPTLASFCPRRNVLSETCCKTVKESVPTKEHLVCLRNLILSLYDETCPMRESEPKTCCRTGVKGLSRSVEVLTPTSVQPVKRTYRVILANQFGYEGLKEFQDCNQKILNQPEDVLHKLKDFVTSYCAHPDDKACCEELTAEYEKALRLLVSVAYEPHRRSYEYLFSGLFADKAEQYNKCVDKDEAFDATLPPLNEPIADKEVEAICHSKELLPKDCCEKLKSSITDQNDCIYKALDARDDACELLDGHCCEKHVKTLDTVLKTVEVFEAKPFKQSLRAVSWAKLAREGFKQISACRLRQRASSALVKERMTEIKPLLCAGKDEAQCCEQFVGNYKNAYYLLEPAYFYPHRRAIEYLYKGWFKKEDAKFEDCLTNPDPKLKPLDPSDDKHSLFCENREPEQKECCDAMDGYTERLSAVKCLEDGFLTHLSKECGAHSEDAVCTKAFETLENVLKVHEDFPCQQLYQSFAILVLGKFHEEGLDKFRHAIESKHTDRRFVGRSYASSFLLLLSIFTVWKM\n"
     ]
    }
   ],
   "source": [
    "# generate target and decoy sequenes\n",
    "target_decoy_database=[]\n",
    "td_sequences =''\n",
    "\n",
    "FASTAFile().load('search_td.fasta',target_decoy_database) # read FASTA file into a list of FASTAEntrys\n",
    "\n",
    "for entry in target_decoy_database:\n",
    "    td_sequences+=entry.sequence\n",
    "    \n",
    "print(td_sequences)"
   ]
  },
  {
   "cell_type": "code",
   "execution_count": 77,
   "id": "d2b0d51c",
   "metadata": {},
   "outputs": [
    {
     "name": "stdout",
     "output_type": "stream",
     "text": [
      "<class 'pyopenms.pyopenms_1.AASequence'>\n"
     ]
    }
   ],
   "source": [
    "# generate target and decoy sequenes as the (theortical) spectrum\n",
    "\n",
    "tsg = TheoreticalSpectrumGenerator()\n",
    "theo_spectrum = MSSpectrum()\n",
    "p = tsg.getParameters()\n",
    "p.setValue(\"add_y_ions\", \"true\")\n",
    "p.setValue(\"add_b_ions\", \"true\")\n",
    "p.setValue(\"add_metainfo\", \"true\")\n",
    "tsg.setParameters(p)\n",
    "\n",
    "\n",
    "peptide = AASequence.fromString(td_sequences)\n",
    "tsg.getSpectrum(theo_spectrum, peptide, 1, 2)\n",
    "\n",
    "print(type(peptide))"
   ]
  },
  {
   "cell_type": "code",
   "execution_count": 78,
   "id": "0e64ca68",
   "metadata": {},
   "outputs": [],
   "source": [
    "#generate spectrums of the search mzMl file (experimental)\n",
    "exp = MSExperiment()\n",
    "MzMLFile().load(searchfile, exp)\n",
    "# Get first spectrum\n",
    "spectra = exp.getSpectra()\n",
    "observed_spectrum = spectra[0]\n",
    "\n",
    "#print(len(spectra))"
   ]
  },
  {
   "cell_type": "code",
   "execution_count": 79,
   "id": "66e17944",
   "metadata": {},
   "outputs": [],
   "source": [
    "def mirror_plot(obs_mz, obs_int, theo_mz, theo_int, title):\n",
    "    obs_int = [element / max(obs_int) for element in obs_int] # relative intenstiy\n",
    "    theo_int = [element * -1 for element in theo_int] # invert the intensity for the mirror plot\n",
    "    plt.figure(figsize=(12,8))\n",
    "    plt.bar(obs_mz, obs_int, width = 3.0)\n",
    "    plt.bar(theo_mz, theo_int, width = 3.0)\n",
    "    plt.title(title)\n",
    "    plt.ylabel('intensity')\n",
    "    plt.xlabel('m/z')"
   ]
  },
  {
   "cell_type": "markdown",
   "id": "5ffcede6",
   "metadata": {},
   "source": [
    "## Target and Decoy alignment vs Searched mzMl (first Spectrum only)"
   ]
  },
  {
   "cell_type": "code",
   "execution_count": 80,
   "id": "aa0080e9",
   "metadata": {},
   "outputs": [
    {
     "data": {
      "image/png": "[encoded data removed]",
      "text/plain": [
       "<Figure size 864x576 with 1 Axes>"
      ]
     },
     "metadata": {
      "needs_background": "light"
     },
     "output_type": "display_data"
    }
   ],
   "source": [
    "obs_mz, obs_int = observed_spectrum.get_peaks()\n",
    "\n",
    "\n",
    "# We filter the peaks of the theoretical spectrum to fit the range (to reduce image complexity)\n",
    "theo_mz, theo_int = [], []\n",
    "for mz, intensity in zip(*theo_spectrum.get_peaks()):\n",
    "    if mz >= 200.0 and mz <= 800.0:\n",
    "        theo_mz.append(mz)\n",
    "        theo_int.append(intensity)\n",
    "\n",
    "title = 'Searched mzMl vs Target/Decoy spectrum'\n",
    "mirror_plot(obs_mz, obs_int, theo_mz, theo_int, title)"
   ]
  },
  {
   "cell_type": "code",
   "execution_count": 81,
   "id": "097e30fd",
   "metadata": {},
   "outputs": [],
   "source": [
    "alignment = []\n",
    "spa = SpectrumAlignment()\n",
    "p = spa.getParameters()\n",
    "p.setValue(\"tolerance\", 0.5)\n",
    "p.setValue(\"is_relative_tolerance\", \"false\")\n",
    "spa.setParameters(p)\n",
    "# align both spectra\n",
    "spa.getSpectrumAlignment(alignment, theo_spectrum, observed_spectrum)"
   ]
  },
  {
   "cell_type": "code",
   "execution_count": 82,
   "id": "03847f8e",
   "metadata": {},
   "outputs": [
    {
     "data": {
      "image/png": "[encoded data removed]",
      "text/plain": [
       "<Figure size 864x576 with 1 Axes>"
      ]
     },
     "metadata": {
      "needs_background": "light"
     },
     "output_type": "display_data"
    }
   ],
   "source": [
    "theo_mz, theo_int, obs_mz, obs_int = [], [], [], []\n",
    "for theo_idx, obs_idx in alignment:\n",
    "    theo_mz.append(theo_spectrum[theo_idx].getMZ())\n",
    "    theo_int.append(theo_spectrum[theo_idx].getIntensity())\n",
    "    obs_mz.append(observed_spectrum[obs_idx].getMZ())\n",
    "    obs_int.append(observed_spectrum[obs_idx].getIntensity())\n",
    "\n",
    "title = 'Searched mzMl vs Target/Decoy spectrum (aligned)'\n",
    "mirror_plot(obs_mz, obs_int, theo_mz, theo_int, title)"
   ]
  },
  {
   "cell_type": "markdown",
   "id": "fd6e7775",
   "metadata": {},
   "source": [
    "## Only Target alignment vs Searched mzMl"
   ]
  },
  {
   "cell_type": "code",
   "execution_count": 83,
   "id": "3476ffe6",
   "metadata": {},
   "outputs": [
    {
     "name": "stdout",
     "output_type": "stream",
     "text": [
      "MKWVTFISLLLLFSSAYSRGVFRRDTHKSEIAHRFKDLGEEHFKGLVLIAFSQYLQQCPFDEHVKLVNELTEFAKTCVADESHAGCEKSLHTLFGDELCKVASLRETYGDMADCCEKQEPERNECFLSHKDDSPDLPKLKPDPNTLCDEFKADEKKFWGKYLYEIARRHPYFYAPELLYYANKYNGVFQECCQAEDKGACLLPKIETMREKVLASSARQRLRCASIQKFGERALKAWSVARLSQKFPKAEFVEVTKLVTDLTKVHKECCHGDLLECADDRADLAKYICDNQDTISSKLKECCDKPLLEKSHCIAEVEKDAIPENLPPLTADFAEDKDVCKNYQEAKDAFLGSFLYEYSRRHPEYAVSVLLRLAKEYEATLEECCAKDDPHACYSTVFDKLKHLVDEPQNLIKQNCDQFEKLGEYGFQNALIVRYTRKVPQVSTPTLVEVSRSLGKVGTRCCTKPESERMPCTEDYLSLILNRLCVLHEKTPVSEKVTKCCTESLVNRRPCFSALTPDETYVPKAFDEKLFTFHADICTLPDTEKQIKKQTALVELLKHKPKATEEQLKTVMENFVAFVDKCCAADDKEACFAVEGPKLVVSTQTALA\n"
     ]
    }
   ],
   "source": [
    "# generate target sequenes\n",
    "t_sequences =''\n",
    "#targets list generated at the second cell of the code\n",
    "for entry in targets:\n",
    "    t_sequences+=entry.sequence\n",
    "    \n",
    "print(t_sequences)"
   ]
  },
  {
   "cell_type": "code",
   "execution_count": 84,
   "id": "07955c45",
   "metadata": {},
   "outputs": [
    {
     "name": "stdout",
     "output_type": "stream",
     "text": [
      "<class 'pyopenms.pyopenms_1.AASequence'>\n"
     ]
    }
   ],
   "source": [
    "# generate target only sequenes as the (theortical) spectrum\n",
    "\n",
    "tsg = TheoreticalSpectrumGenerator()\n",
    "theo_spectrum = MSSpectrum()\n",
    "p = tsg.getParameters()\n",
    "p.setValue(\"add_y_ions\", \"true\")\n",
    "p.setValue(\"add_b_ions\", \"true\")\n",
    "p.setValue(\"add_metainfo\", \"true\")\n",
    "tsg.setParameters(p)\n",
    "\n",
    "\n",
    "peptide = AASequence.fromString(t_sequences)\n",
    "tsg.getSpectrum(theo_spectrum, peptide, 1, 2)\n",
    "\n",
    "print(type(peptide))"
   ]
  },
  {
   "cell_type": "code",
   "execution_count": 85,
   "id": "5fa56207",
   "metadata": {},
   "outputs": [
    {
     "data": {
      "image/png": "[encoded data removed]",
      "text/plain": [
       "<Figure size 864x576 with 1 Axes>"
      ]
     },
     "metadata": {
      "needs_background": "light"
     },
     "output_type": "display_data"
    }
   ],
   "source": [
    "obs_mz, obs_int = observed_spectrum.get_peaks()\n",
    "\n",
    "\n",
    "# We filter the peaks of the theoretical spectrum to fit the range (to reduce image complexity)\n",
    "theo_mz, theo_int = [], []\n",
    "for mz, intensity in zip(*theo_spectrum.get_peaks()):\n",
    "    if mz >= 200.0 and mz <= 800.0:\n",
    "        theo_mz.append(mz)\n",
    "        theo_int.append(intensity)\n",
    "\n",
    "title = 'Searched mzMl vs Target spectrum'\n",
    "mirror_plot(obs_mz, obs_int, theo_mz, theo_int, title)"
   ]
  },
  {
   "cell_type": "code",
   "execution_count": 86,
   "id": "af23fa85",
   "metadata": {},
   "outputs": [],
   "source": [
    "alignment = []\n",
    "spa = SpectrumAlignment()\n",
    "p = spa.getParameters()\n",
    "p.setValue(\"tolerance\", 0.5)\n",
    "p.setValue(\"is_relative_tolerance\", \"false\")\n",
    "spa.setParameters(p)\n",
    "# align both spectra\n",
    "spa.getSpectrumAlignment(alignment, theo_spectrum, observed_spectrum)"
   ]
  },
  {
   "cell_type": "code",
   "execution_count": 87,
   "id": "32331f2e",
   "metadata": {},
   "outputs": [
    {
     "data": {
      "image/png": "[encoded data removed]",
      "text/plain": [
       "<Figure size 864x576 with 1 Axes>"
      ]
     },
     "metadata": {
      "needs_background": "light"
     },
     "output_type": "display_data"
    }
   ],
   "source": [
    "theo_mz, theo_int, obs_mz, obs_int = [], [], [], []\n",
    "for theo_idx, obs_idx in alignment:\n",
    "    theo_mz.append(theo_spectrum[theo_idx].getMZ())\n",
    "    theo_int.append(theo_spectrum[theo_idx].getIntensity())\n",
    "    obs_mz.append(observed_spectrum[obs_idx].getMZ())\n",
    "    obs_int.append(observed_spectrum[obs_idx].getIntensity())\n",
    "\n",
    "title = 'Searched mzMl vs Target spectrum (aligned)'\n",
    "mirror_plot(obs_mz, obs_int, theo_mz, theo_int, title)"
   ]
  },
  {
   "cell_type": "markdown",
   "id": "c63cdb8f",
   "metadata": {},
   "source": [
    "## Only Decoy alignment vs Searched mzMl"
   ]
  },
  {
   "cell_type": "code",
   "execution_count": 88,
   "id": "f3d35834",
   "metadata": {},
   "outputs": [
    {
     "name": "stdout",
     "output_type": "stream",
     "text": [
      "ALATQTSVVLKPGEVAFCAEKDDAACCKDVFAVFNEMVTKLQEETAKPKHKLLEVLATQKKIQKETDPLTCIDAHFTFLKEDFAKPVYTEDPTLASFCPRRNVLSETCCKTVKESVPTKEHLVCLRNLILSLYDETCPMRESEPKTCCRTGVKGLSRSVEVLTPTSVQPVKRTYRVILANQFGYEGLKEFQDCNQKILNQPEDVLHKLKDFVTSYCAHPDDKACCEELTAEYEKALRLLVSVAYEPHRRSYEYLFSGLFADKAEQYNKCVDKDEAFDATLPPLNEPIADKEVEAICHSKELLPKDCCEKLKSSITDQNDCIYKALDARDDACELLDGHCCEKHVKTLDTVLKTVEVFEAKPFKQSLRAVSWAKLAREGFKQISACRLRQRASSALVKERMTEIKPLLCAGKDEAQCCEQFVGNYKNAYYLLEPAYFYPHRRAIEYLYKGWFKKEDAKFEDCLTNPDPKLKPLDPSDDKHSLFCENREPEQKECCDAMDGYTERLSAVKCLEDGFLTHLSKECGAHSEDAVCTKAFETLENVLKVHEDFPCQQLYQSFAILVLGKFHEEGLDKFRHAIESKHTDRRFVGRSYASSFLLLLSIFTVWKM\n"
     ]
    }
   ],
   "source": [
    "# generate target sequenes\n",
    "d_sequences =''\n",
    "#decoys list generated at the second cell of the code\n",
    "for entry in decoys:\n",
    "    d_sequences+=entry.sequence\n",
    "    \n",
    "print(d_sequences)"
   ]
  },
  {
   "cell_type": "code",
   "execution_count": 89,
   "id": "517147e8",
   "metadata": {},
   "outputs": [
    {
     "name": "stdout",
     "output_type": "stream",
     "text": [
      "<class 'pyopenms.pyopenms_1.AASequence'>\n"
     ]
    }
   ],
   "source": [
    "# generate target only sequenes as the (theortical) spectrum\n",
    "\n",
    "tsg = TheoreticalSpectrumGenerator()\n",
    "theo_spectrum = MSSpectrum()\n",
    "p = tsg.getParameters()\n",
    "p.setValue(\"add_y_ions\", \"true\")\n",
    "p.setValue(\"add_b_ions\", \"true\")\n",
    "p.setValue(\"add_metainfo\", \"true\")\n",
    "tsg.setParameters(p)\n",
    "\n",
    "\n",
    "peptide = AASequence.fromString(d_sequences)\n",
    "tsg.getSpectrum(theo_spectrum, peptide, 1, 2)\n",
    "\n",
    "print(type(peptide))"
   ]
  },
  {
   "cell_type": "code",
   "execution_count": 90,
   "id": "1fd4e834",
   "metadata": {},
   "outputs": [
    {
     "data": {
      "image/png": "[encoded data removed]",
      "text/plain": [
       "<Figure size 864x576 with 1 Axes>"
      ]
     },
     "metadata": {
      "needs_background": "light"
     },
     "output_type": "display_data"
    }
   ],
   "source": [
    "obs_mz, obs_int = observed_spectrum.get_peaks()\n",
    "\n",
    "\n",
    "# We filter the peaks of the theoretical spectrum to fit the range (to reduce image complexity)\n",
    "theo_mz, theo_int = [], []\n",
    "for mz, intensity in zip(*theo_spectrum.get_peaks()):\n",
    "    if mz >= 200.0 and mz <= 800.0:\n",
    "        theo_mz.append(mz)\n",
    "        theo_int.append(intensity)\n",
    "\n",
    "title = 'Searched mzMl vs Decoy spectrum'\n",
    "mirror_plot(obs_mz, obs_int, theo_mz, theo_int, title)"
   ]
  },
  {
   "cell_type": "code",
   "execution_count": 91,
   "id": "afed5809",
   "metadata": {},
   "outputs": [],
   "source": [
    "alignment = []\n",
    "spa = SpectrumAlignment()\n",
    "p = spa.getParameters()\n",
    "p.setValue(\"tolerance\", 0.5)\n",
    "p.setValue(\"is_relative_tolerance\", \"false\")\n",
    "spa.setParameters(p)\n",
    "# align both spectra\n",
    "spa.getSpectrumAlignment(alignment, theo_spectrum, observed_spectrum)"
   ]
  },
  {
   "cell_type": "code",
   "execution_count": 92,
   "id": "fbeae206",
   "metadata": {},
   "outputs": [
    {
     "data": {
      "image/png": "[encoded data removed]",
      "text/plain": [
       "<Figure size 864x576 with 1 Axes>"
      ]
     },
     "metadata": {
      "needs_background": "light"
     },
     "output_type": "display_data"
    }
   ],
   "source": [
    "theo_mz, theo_int, obs_mz, obs_int = [], [], [], []\n",
    "for theo_idx, obs_idx in alignment:\n",
    "    theo_mz.append(theo_spectrum[theo_idx].getMZ())\n",
    "    theo_int.append(theo_spectrum[theo_idx].getIntensity())\n",
    "    obs_mz.append(observed_spectrum[obs_idx].getMZ())\n",
    "    obs_int.append(observed_spectrum[obs_idx].getIntensity())\n",
    "\n",
    "title = 'Searched mzMl vs Decoy spectrum (aligned)'\n",
    "mirror_plot(obs_mz, obs_int, theo_mz, theo_int, title)"
   ]
  },
  {
   "cell_type": "code",
   "execution_count": null,
   "id": "2c759346",
   "metadata": {},
   "outputs": [],
   "source": []
  }
 ],
 "metadata": {
  "kernelspec": {
   "display_name": "Python 3 (ipykernel)",
   "language": "python",
   "name": "python3"
  },
  "language_info": {
   "codemirror_mode": {
    "name": "ipython",
    "version": 3
   },
   "file_extension": ".py",
   "mimetype": "text/x-python",
   "name": "python",
   "nbconvert_exporter": "python",
   "pygments_lexer": "ipython3",
   "version": "3.9.7"
  }
 },
 "nbformat": 4,
 "nbformat_minor": 5
}
